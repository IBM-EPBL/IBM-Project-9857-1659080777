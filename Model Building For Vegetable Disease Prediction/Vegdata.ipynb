{
 "cells": [
  {
   "cell_type": "code",
   "execution_count": 1,
   "id": "9295b57c",
   "metadata": {},
   "outputs": [],
   "source": [
    "from keras.preprocessing.image import ImageDataGenerator\n",
    "train_datagen=ImageDataGenerator(rescale=1./255,shear_range=0.2,zoom_range=0.2,horizontal_flip=True)\n",
    "test_datagen=ImageDataGenerator(rescale=1)"
   ]
  },
  {
   "cell_type": "code",
   "execution_count": 2,
   "id": "276449c4",
   "metadata": {},
   "outputs": [
    {
     "name": "stdout",
     "output_type": "stream",
     "text": [
      "Found 11386 images belonging to 9 classes.\n",
      "Found 3416 images belonging to 9 classes.\n"
     ]
    }
   ],
   "source": [
    "x_train=train_datagen.flow_from_directory(r'C:\\Users\\princ\\OneDrive\\Desktop\\Dataset Plant Disease\\Veg-dataset\\Veg-dataset\\train_set',target_size=(128,128),batch_size=32,class_mode='categorical')\n",
    "x_test=test_datagen.flow_from_directory(r'C:\\Users\\princ\\OneDrive\\Desktop\\Dataset Plant Disease\\Veg-dataset\\Veg-dataset\\test_set',target_size=(128,128),batch_size=32,class_mode='categorical')"
   ]
  },
  {
   "cell_type": "code",
   "execution_count": 3,
   "id": "3c54ba24",
   "metadata": {},
   "outputs": [],
   "source": [
    "from keras.models import Sequential\n",
    "from keras.layers import Dense\n",
    "from keras.layers import Convolution2D\n",
    "from keras.layers import MaxPooling2D\n",
    "from keras.layers import Flatten"
   ]
  },
  {
   "cell_type": "code",
   "execution_count": 4,
   "id": "d67384fe",
   "metadata": {},
   "outputs": [],
   "source": [
    "model=Sequential()"
   ]
  },
  {
   "cell_type": "code",
   "execution_count": 5,
   "id": "eae824c4",
   "metadata": {},
   "outputs": [],
   "source": [
    "model.add(Convolution2D(32,(3,3),input_shape=(128,128,3),activation='relu'))"
   ]
  },
  {
   "cell_type": "code",
   "execution_count": 6,
   "id": "a7a4e210",
   "metadata": {},
   "outputs": [],
   "source": [
    "model.add(MaxPooling2D(pool_size=(2,2)))"
   ]
  },
  {
   "cell_type": "code",
   "execution_count": 7,
   "id": "b5cba4b2",
   "metadata": {},
   "outputs": [],
   "source": [
    "model.add(Flatten())"
   ]
  },
  {
   "cell_type": "code",
   "execution_count": 8,
   "id": "04afa4f7",
   "metadata": {},
   "outputs": [],
   "source": [
    "model.add(Dense(units=300,kernel_initializer='uniform',activation='relu'))"
   ]
  },
  {
   "cell_type": "code",
   "execution_count": 9,
   "id": "ca2e9921",
   "metadata": {},
   "outputs": [],
   "source": [
    "model.add(Dense(units=150,kernel_initializer='uniform',activation='relu'))"
   ]
  },
  {
   "cell_type": "code",
   "execution_count": 10,
   "id": "eb00a262",
   "metadata": {},
   "outputs": [],
   "source": [
    "model.add(Dense(units=75,kernel_initializer='uniform',activation='relu'))"
   ]
  },
  {
   "cell_type": "code",
   "execution_count": 11,
   "id": "dca56a41",
   "metadata": {},
   "outputs": [],
   "source": [
    "model.add(Dense(units=9,kernel_initializer='uniform',activation='softmax'))"
   ]
  },
  {
   "cell_type": "code",
   "execution_count": 12,
   "id": "2247ce7b",
   "metadata": {},
   "outputs": [],
   "source": [
    "model.compile(loss='categorical_crossentropy',optimizer=\"adam\",metrics=[\"accuracy\"])"
   ]
  },
  {
   "cell_type": "code",
   "execution_count": 13,
   "id": "1fb6945b",
   "metadata": {},
   "outputs": [
    {
     "name": "stdout",
     "output_type": "stream",
     "text": [
      "Epoch 1/20\n",
      "89/89 [==============================] - 37s 407ms/step - loss: 1.8913 - accuracy: 0.2963 - val_loss: 201.2470 - val_accuracy: 0.3634\n",
      "Epoch 2/20\n",
      "89/89 [==============================] - 34s 386ms/step - loss: 1.3260 - accuracy: 0.5105 - val_loss: 144.9129 - val_accuracy: 0.5104\n",
      "Epoch 3/20\n",
      "89/89 [==============================] - 31s 348ms/step - loss: 1.0517 - accuracy: 0.6204 - val_loss: 452.8666 - val_accuracy: 0.2465\n",
      "Epoch 4/20\n",
      "89/89 [==============================] - 30s 340ms/step - loss: 0.9506 - accuracy: 0.6570 - val_loss: 1062.1256 - val_accuracy: 0.2801\n",
      "Epoch 5/20\n",
      "89/89 [==============================] - 33s 368ms/step - loss: 0.7732 - accuracy: 0.7268 - val_loss: 713.5864 - val_accuracy: 0.3264\n",
      "Epoch 6/20\n",
      "89/89 [==============================] - 33s 372ms/step - loss: 0.6780 - accuracy: 0.7574 - val_loss: 1175.1545 - val_accuracy: 0.2801\n",
      "Epoch 7/20\n",
      "89/89 [==============================] - 31s 352ms/step - loss: 0.6116 - accuracy: 0.7745 - val_loss: 1305.8286 - val_accuracy: 0.2743\n",
      "Epoch 8/20\n",
      "89/89 [==============================] - 29s 323ms/step - loss: 0.5763 - accuracy: 0.7903 - val_loss: 1302.3727 - val_accuracy: 0.2269\n",
      "Epoch 9/20\n",
      "89/89 [==============================] - 30s 342ms/step - loss: 0.5767 - accuracy: 0.7946 - val_loss: 1277.9509 - val_accuracy: 0.3056\n",
      "Epoch 10/20\n",
      "89/89 [==============================] - 31s 348ms/step - loss: 0.5556 - accuracy: 0.8013 - val_loss: 1235.4139 - val_accuracy: 0.3113\n",
      "Epoch 11/20\n",
      "89/89 [==============================] - 32s 355ms/step - loss: 0.4403 - accuracy: 0.8392 - val_loss: 1530.7563 - val_accuracy: 0.3461\n",
      "Epoch 12/20\n",
      "89/89 [==============================] - 31s 344ms/step - loss: 0.4323 - accuracy: 0.8522 - val_loss: 1574.8284 - val_accuracy: 0.3125\n",
      "Epoch 13/20\n",
      "89/89 [==============================] - 29s 320ms/step - loss: 0.4533 - accuracy: 0.8343 - val_loss: 1657.8656 - val_accuracy: 0.2627\n",
      "Epoch 14/20\n",
      "89/89 [==============================] - 29s 324ms/step - loss: 0.4202 - accuracy: 0.8498 - val_loss: 1603.1924 - val_accuracy: 0.3021\n",
      "Epoch 15/20\n",
      "89/89 [==============================] - 26s 289ms/step - loss: 0.3590 - accuracy: 0.8792 - val_loss: 1485.8334 - val_accuracy: 0.3623\n",
      "Epoch 16/20\n",
      "89/89 [==============================] - 25s 281ms/step - loss: 0.3680 - accuracy: 0.8694 - val_loss: 2185.7332 - val_accuracy: 0.2708\n",
      "Epoch 17/20\n",
      "89/89 [==============================] - 24s 270ms/step - loss: 0.3488 - accuracy: 0.8792 - val_loss: 2317.3721 - val_accuracy: 0.2870\n",
      "Epoch 18/20\n",
      "89/89 [==============================] - 24s 264ms/step - loss: 0.3258 - accuracy: 0.8902 - val_loss: 1627.2305 - val_accuracy: 0.3009\n",
      "Epoch 19/20\n",
      "89/89 [==============================] - 26s 293ms/step - loss: 0.3268 - accuracy: 0.8869 - val_loss: 1958.1587 - val_accuracy: 0.2546\n",
      "Epoch 20/20\n",
      "89/89 [==============================] - 28s 313ms/step - loss: 0.2834 - accuracy: 0.9031 - val_loss: 2081.9343 - val_accuracy: 0.3090\n"
     ]
    },
    {
     "data": {
      "text/plain": [
       "<keras.callbacks.History at 0x24280d69190>"
      ]
     },
     "execution_count": 13,
     "metadata": {},
     "output_type": "execute_result"
    }
   ],
   "source": [
    "model.fit(x_train,steps_per_epoch=89,epochs=20,validation_data=x_test,validation_steps=27)"
   ]
  },
  {
   "cell_type": "code",
   "execution_count": 14,
   "id": "9f567b1f",
   "metadata": {},
   "outputs": [],
   "source": [
    "model.save('vegetabledata.h5')"
   ]
  },
  {
   "cell_type": "code",
   "execution_count": 15,
   "id": "37e804db",
   "metadata": {},
   "outputs": [
    {
     "name": "stdout",
     "output_type": "stream",
     "text": [
      "Model: \"sequential\"\n",
      "_________________________________________________________________\n",
      "Layer (type)                 Output Shape              Param #   \n",
      "=================================================================\n",
      "conv2d (Conv2D)              (None, 126, 126, 32)      896       \n",
      "_________________________________________________________________\n",
      "max_pooling2d (MaxPooling2D) (None, 63, 63, 32)        0         \n",
      "_________________________________________________________________\n",
      "flatten (Flatten)            (None, 127008)            0         \n",
      "_________________________________________________________________\n",
      "dense (Dense)                (None, 300)               38102700  \n",
      "_________________________________________________________________\n",
      "dense_1 (Dense)              (None, 150)               45150     \n",
      "_________________________________________________________________\n",
      "dense_2 (Dense)              (None, 75)                11325     \n",
      "_________________________________________________________________\n",
      "dense_3 (Dense)              (None, 9)                 684       \n",
      "=================================================================\n",
      "Total params: 38,160,755\n",
      "Trainable params: 38,160,755\n",
      "Non-trainable params: 0\n",
      "_________________________________________________________________\n"
     ]
    }
   ],
   "source": [
    "model.summary()"
   ]
  }
 ],
 "metadata": {
  "kernelspec": {
   "display_name": "Python 3 (ipykernel)",
   "language": "python",
   "name": "python3"
  },
  "language_info": {
   "codemirror_mode": {
    "name": "ipython",
    "version": 3
   },
   "file_extension": ".py",
   "mimetype": "text/x-python",
   "name": "python",
   "nbconvert_exporter": "python",
   "pygments_lexer": "ipython3",
   "version": "3.9.13"
  }
 },
 "nbformat": 4,
 "nbformat_minor": 5
}
