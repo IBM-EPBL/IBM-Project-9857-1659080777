{
  "nbformat": 4,
  "nbformat_minor": 0,
  "metadata": {
    "colab": {
      "provenance": []
    },
    "kernelspec": {
      "name": "python3",
      "display_name": "Python 3"
    },
    "language_info": {
      "name": "python"
    }
  },
  "cells": [
    {
      "cell_type": "markdown",
      "source": [
        "Write a program which will find all such numbers which are divisible by 7 but are not a multiple of 5, between 2000 and 3200 (both included). The numbers obtained should be printed in a comma-separated sequence on a single line.\n"
      ],
      "metadata": {
        "id": "1W8LI0zAOKoq"
      }
    },
    {
      "cell_type": "code",
      "execution_count": 2,
      "metadata": {
        "colab": {
          "base_uri": "https://localhost:8080/"
        },
        "id": "wz44u_CEN9IC",
        "outputId": "e4ec583f-c142-4827-9afa-da70b852bbc2"
      },
      "outputs": [
        {
          "output_type": "stream",
          "name": "stdout",
          "text": [
            "2002,2009,2016,2023,2037,2044,2051,2058,2072,2079,2086,2093,2107,2114,2121,2128,2142,2149,2156,2163,2177,2184,2191,2198,2212,2219,2226,2233,2247,2254,2261,2268,2282,2289,2296,2303,2317,2324,2331,2338,2352,2359,2366,2373,2387,2394,2401,2408,2422,2429,2436,2443,2457,2464,2471,2478,2492,2499,2506,2513,2527,2534,2541,2548,2562,2569,2576,2583,2597,2604,2611,2618,2632,2639,2646,2653,2667,2674,2681,2688,2702,2709,2716,2723,2737,2744,2751,2758,2772,2779,2786,2793,2807,2814,2821,2828,2842,2849,2856,2863,2877,2884,2891,2898,2912,2919,2926,2933,2947,2954,2961,2968,2982,2989,2996,3003,3017,3024,3031,3038,3052,3059,3066,3073,3087,3094,3101,3108,3122,3129,3136,3143,3157,3164,3171,3178,3192,3199\n"
          ]
        }
      ],
      "source": [
        "l=[]\n",
        "for i in range(2000, 3201):\n",
        "    if (i%7==0) and (i%5!=0):\n",
        "        l.append(str(i))\n",
        "\n",
        "\n",
        "\n",
        "print (','.join(l))\n",
        "\n"
      ]
    },
    {
      "cell_type": "markdown",
      "source": [
        "With a given integral number n, write a program to generate a dictionary that contains (i, i*i) such that is an integral number between 1 and n (both included). and then the program should print the dictionary.\n",
        "\n",
        "Suppose the following input is supplied to the program:\n",
        "8\n",
        "\n",
        "Then, the output should be:\n",
        "{1: 1, 2: 4, 3: 9, 4: 16, 5: 25, 6: 36, 7: 49, 8: 64}\n"
      ],
      "metadata": {
        "id": "JmFcIur9ORLT"
      }
    },
    {
      "cell_type": "code",
      "source": [
        "\n",
        "\n",
        "n=int(input())\n",
        "\n",
        "\n",
        "d=dict()\n",
        "\n",
        "\n",
        "for i in range(1,n+1):\n",
        "  d[i]=i*i\n",
        "\n",
        "print(d) \n",
        "\n"
      ],
      "metadata": {
        "colab": {
          "base_uri": "https://localhost:8080/"
        },
        "id": "JjfxumNNOiJS",
        "outputId": "cbbf8701-9fb3-4166-fb95-f6cbe6fdf6b7"
      },
      "execution_count": 4,
      "outputs": [
        {
          "output_type": "stream",
          "name": "stdout",
          "text": [
            "8\n",
            "{1: 1, 2: 4, 3: 9, 4: 16, 5: 25, 6: 36, 7: 49, 8: 64}\n"
          ]
        }
      ]
    }
  ]
}